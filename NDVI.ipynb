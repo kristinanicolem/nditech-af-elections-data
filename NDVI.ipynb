{
 "cells": [
  {
   "cell_type": "code",
   "execution_count": null,
   "id": "4d9f803e",
   "metadata": {},
   "outputs": [],
   "source": [
    "#for NDVI\n",
    "!pip install -U -q PyDrive\n",
    "\n",
    "from pydrive.auth import GoogleAuth\n",
    "\n",
    "from pydrive.drive import GoogleDrive\n",
    "\n",
    "from google.colab import auth\n",
    "\n",
    "from oauth2client.client import GoogleCredentials\n",
    "from pydrive2.auth import GoogleAuth\n",
    "from pydrive2.drive import GoogleDrive\n",
    "\n",
    "auth.authenticate_user()\n",
    "\n",
    "gauth = GoogleAuth()\n",
    "\n",
    "gauth.credentials = GoogleCredentials.get_application_default()\n",
    "\n",
    "drive = GoogleDrive(gauth)"
   ]
  }
 ],
 "metadata": {
  "kernelspec": {
   "display_name": "Python 3 (ipykernel)",
   "language": "python",
   "name": "python3"
  },
  "language_info": {
   "codemirror_mode": {
    "name": "ipython",
    "version": 3
   },
   "file_extension": ".py",
   "mimetype": "text/x-python",
   "name": "python",
   "nbconvert_exporter": "python",
   "pygments_lexer": "ipython3",
   "version": "3.9.16"
  }
 },
 "nbformat": 4,
 "nbformat_minor": 5
}

