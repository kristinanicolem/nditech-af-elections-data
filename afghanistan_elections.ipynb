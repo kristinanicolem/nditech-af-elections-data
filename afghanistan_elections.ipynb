{
 "cells": [
  {
   "cell_type": "code",
   "execution_count": 11,
   "id": "79ca4225",
   "metadata": {},
   "outputs": [
    {
     "name": "stdout",
     "output_type": "stream",
     "text": [
      "[('results',)]\n",
      "(1, 161, 101281, 5, '5516772', 1, 1)\n",
      "(1, 161, 101234, 5, '3699568', 0, 0)\n",
      "(1, 161, 101116, 5, '2278941', 0, 0)\n",
      "(1, 161, 101217, 1, '5765357', 1, 1)\n",
      "(1, 161, 101302, 2, '2289388', 0, 0)\n",
      "(1, 161, 101152, 1, '10409918', 20, 20)\n",
      "(1, 161, 101163, 2, '4206518', 4, 4)\n",
      "(1, 161, 101225, 2, '5167776', 1, 1)\n",
      "(1, 161, 101044, 5, '5765310', 2, 2)\n",
      "(1, 161, 101295, 3, '3466659', 3, 3)\n"
     ]
    }
   ],
   "source": [
    "#election results\n",
    "import requests\n",
    "import sqlite3\n",
    "\n",
    "# Download the SQLite file from GitHub\n",
    "url = 'https://github.com/kristinanicolem/nditech-af-elections-data/raw/master/2010-wolesi-jirga/results.sqlite'\n",
    "response = requests.get(url)\n",
    "with open('results.sqlite', 'wb') as f:\n",
    "    f.write(response.content)\n",
    "\n",
    "# Connect to the database file\n",
    "conn = sqlite3.connect('results.sqlite')\n",
    "\n",
    "# Create a cursor object to execute SQL statements\n",
    "cur = conn.cursor()\n",
    "\n",
    "cur.execute(\"SELECT name FROM sqlite_master WHERE type='table'\")\n",
    "tables = cur.fetchall()\n",
    "print(tables)\n",
    "\n",
    "cur.execute('SELECT * FROM results LIMIT 10')\n",
    "\n",
    "\n",
    "\n",
    "# Fetch the results\n",
    "results = cur.fetchall()\n",
    "\n",
    "# Print the results\n",
    "for row in results:\n",
    "    print(row)\n",
    "\n",
    "# Close the cursor and the connection\n",
    "#cur.close()\n",
    "#conn.close()\n"
   ]
  },
  {
   "cell_type": "code",
   "execution_count": 12,
   "id": "df7d2ed9",
   "metadata": {},
   "outputs": [
    {
     "name": "stdout",
     "output_type": "stream",
     "text": [
      "   provId  distId    pcId  psId candidateId  prelimVotes  finalVotes\n",
      "0       1     161  101281     5     5516772          1.0         1.0\n",
      "1       1     161  101234     5     3699568          0.0         0.0\n",
      "2       1     161  101116     5     2278941          0.0         0.0\n",
      "3       1     161  101217     1     5765357          1.0         1.0\n",
      "4       1     161  101302     2     2289388          0.0         0.0\n"
     ]
    }
   ],
   "source": [
    "import pandas as pd\n",
    "results = pd.read_sql_query('SELECT * FROM results', conn)\n",
    "\n",
    "# Close the connection\n",
    "conn.close()\n",
    "\n",
    "# Print the first few rows of the DataFrame\n",
    "print(results.head())"
   ]
  },
  {
   "cell_type": "code",
   "execution_count": 13,
   "id": "f5cef40c",
   "metadata": {},
   "outputs": [
    {
     "name": "stdout",
     "output_type": "stream",
     "text": [
      "              provId         distId          pcId           psId  \\\n",
      "count  682538.000000  682538.000000  6.825380e+05  682538.000000   \n",
      "mean       11.150913     198.771613  1.119737e+06       2.606960   \n",
      "std         9.994938      87.596812  1.000307e+06       1.606907   \n",
      "min         1.000000       1.000000  1.010010e+05       1.000000   \n",
      "25%         1.000000     161.000000  1.012830e+05       1.000000   \n",
      "50%        10.000000     161.000000  1.006163e+06       2.000000   \n",
      "75%        19.000000     273.000000  1.911226e+06       3.000000   \n",
      "max        34.000000     400.000000  3.409112e+06      11.000000   \n",
      "\n",
      "         prelimVotes     finalVotes  \n",
      "count  668653.000000  656854.000000  \n",
      "mean        6.226206       5.975463  \n",
      "std        24.496947      23.467340  \n",
      "min         0.000000       0.000000  \n",
      "25%         0.000000       0.000000  \n",
      "50%         1.000000       1.000000  \n",
      "75%         3.000000       3.000000  \n",
      "max       590.000000     590.000000  \n"
     ]
    }
   ],
   "source": [
    "print(results.describe())"
   ]
  },
  {
   "cell_type": "code",
   "execution_count": 14,
   "id": "96ae8cbd",
   "metadata": {},
   "outputs": [
    {
     "name": "stdout",
     "output_type": "stream",
     "text": [
      "<class 'pandas.core.frame.DataFrame'>\n",
      "RangeIndex: 682538 entries, 0 to 682537\n",
      "Data columns (total 7 columns):\n",
      " #   Column       Non-Null Count   Dtype  \n",
      "---  ------       --------------   -----  \n",
      " 0   provId       682538 non-null  int64  \n",
      " 1   distId       682538 non-null  int64  \n",
      " 2   pcId         682538 non-null  int64  \n",
      " 3   psId         682538 non-null  int64  \n",
      " 4   candidateId  682538 non-null  object \n",
      " 5   prelimVotes  668653 non-null  float64\n",
      " 6   finalVotes   656854 non-null  float64\n",
      "dtypes: float64(2), int64(4), object(1)\n",
      "memory usage: 36.5+ MB\n",
      "None\n"
     ]
    }
   ],
   "source": [
    "print(results.info())"
   ]
  },
  {
   "cell_type": "code",
   "execution_count": 15,
   "id": "60292f66",
   "metadata": {},
   "outputs": [
    {
     "name": "stdout",
     "output_type": "stream",
     "text": [
      "4792074      1640\n",
      "997138       1582\n",
      "3466654      1277\n",
      "972335       1177\n",
      "5765417      1144\n",
      "             ... \n",
      "8337640        24\n",
      "5795207        24\n",
      "101050508      17\n",
      "5795213        13\n",
      "5795205        10\n",
      "Name: candidateId, Length: 2504, dtype: int64\n"
     ]
    }
   ],
   "source": [
    "print(results['candidateId'].value_counts())"
   ]
  },
  {
   "cell_type": "code",
   "execution_count": null,
   "id": "b84ed840",
   "metadata": {},
   "outputs": [],
   "source": []
  }
 ],
 "metadata": {
  "kernelspec": {
   "display_name": "Python 3 (ipykernel)",
   "language": "python",
   "name": "python3"
  },
  "language_info": {
   "codemirror_mode": {
    "name": "ipython",
    "version": 3
   },
   "file_extension": ".py",
   "mimetype": "text/x-python",
   "name": "python",
   "nbconvert_exporter": "python",
   "pygments_lexer": "ipython3",
   "version": "3.9.16"
  }
 },
 "nbformat": 4,
 "nbformat_minor": 5
}
